{
 "cells": [
  {
   "attachments": {},
   "cell_type": "markdown",
   "metadata": {},
   "source": [
    "# 宛名書き検証"
   ]
  },
  {
   "cell_type": "code",
   "execution_count": null,
   "metadata": {},
   "outputs": [],
   "source": [
    "!ls "
   ]
  },
  {
   "cell_type": "code",
   "execution_count": null,
   "metadata": {},
   "outputs": [],
   "source": [
    "from PIL import Image\n",
    "import numpy as np\n",
    "import matplotlib.pyplot as plt"
   ]
  },
  {
   "attachments": {},
   "cell_type": "markdown",
   "metadata": {},
   "source": [
    "- 縦書きの画像生成にて、日本語の伸ばし棒の向きをいい感じにできるのか検証"
   ]
  },
  {
   "cell_type": "code",
   "execution_count": null,
   "metadata": {},
   "outputs": [],
   "source": [
    "from trdg.generators import (\n",
    "    # GeneratorFromDict,\n",
    "    # GeneratorFromRandom,\n",
    "    GeneratorFromStrings,\n",
    "    # GeneratorFromWikipedia,\n",
    ")"
   ]
  },
  {
   "cell_type": "code",
   "execution_count": null,
   "metadata": {},
   "outputs": [],
   "source": [
    "INPUT_TEXT_LIST = ['東京都 千代田区 霞が関一丁目二ー二', 'アドバイザー', 'リーダー', 'コミックマーケット', '大阪府大阪市北区中之島１ー３ー２０', 'ーーーーーーーーーーーーーーーーーーーーーーーー']\n",
    "INPUT_ALPHABET_LIST = ['Test1', 'Test2', 'Test3']"
   ]
  },
  {
   "cell_type": "code",
   "execution_count": null,
   "metadata": {},
   "outputs": [],
   "source": [
    "INPUT_ALPHABET_LIST"
   ]
  },
  {
   "cell_type": "code",
   "execution_count": null,
   "metadata": {},
   "outputs": [],
   "source": [
    "generator = GeneratorFromStrings(\n",
    "    strings=INPUT_TEXT_LIST,\n",
    "    count=len(INPUT_TEXT_LIST),\n",
    "    blur=0.12,\n",
    "    random_blur=True,\n",
    "    text_color='#000000',\n",
    "    language='ja',\n",
    "    size=100,\n",
    "    word_split=True,\n",
    "    orientation = 1,\n",
    ")\n",
    "for img, lbl in generator:\n",
    "    print(lbl)\n",
    "    plt.imshow(np.array(img))\n",
    "    plt.show()\n",
    "    plt.close()"
   ]
  },
  {
   "cell_type": "code",
   "execution_count": null,
   "metadata": {},
   "outputs": [],
   "source": []
  },
  {
   "cell_type": "code",
   "execution_count": null,
   "metadata": {},
   "outputs": [],
   "source": []
  },
  {
   "cell_type": "code",
   "execution_count": null,
   "metadata": {},
   "outputs": [],
   "source": []
  },
  {
   "cell_type": "code",
   "execution_count": null,
   "metadata": {},
   "outputs": [],
   "source": []
  },
  {
   "cell_type": "code",
   "execution_count": null,
   "metadata": {},
   "outputs": [],
   "source": []
  },
  {
   "cell_type": "code",
   "execution_count": null,
   "metadata": {},
   "outputs": [],
   "source": []
  },
  {
   "cell_type": "code",
   "execution_count": null,
   "metadata": {},
   "outputs": [],
   "source": []
  },
  {
   "cell_type": "code",
   "execution_count": null,
   "metadata": {},
   "outputs": [],
   "source": []
  }
 ],
 "metadata": {
  "kernelspec": {
   "display_name": "Python 3 (ipykernel)",
   "language": "python",
   "name": "python3"
  },
  "orig_nbformat": 4
 },
 "nbformat": 4,
 "nbformat_minor": 2
}
